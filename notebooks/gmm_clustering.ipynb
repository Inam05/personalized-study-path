{
 "cells": [
  {
   "cell_type": "code",
   "execution_count": null,
   "id": "ba12ff62",
   "metadata": {},
   "outputs": [
    {
     "ename": "",
     "evalue": "",
     "output_type": "error",
     "traceback": [
      "\u001b[1;31mRunning cells with 'Python 3.10.1' requires the ipykernel package.\n",
      "\u001b[1;31m<a href='command:jupyter.createPythonEnvAndSelectController'>Create a Python Environment</a> with the required packages.\n",
      "\u001b[1;31mOr install 'ipykernel' using the command: 'c:/Users/inamu.SUFI_PC/AppData/Local/Programs/Python/Python310/python.exe -m pip install ipykernel -U --user --force-reinstall'"
     ]
    }
   ],
   "source": [
    "import pandas as pd\n",
    "import numpy as np\n",
    "from sklearn.mixture import GaussianMixture\n",
    "from sklearn.decomposition import PCA\n",
    "from sklearn.metrics import silhouette_score\n",
    "import matplotlib.pyplot as plt\n",
    "import seaborn as sns\n",
    "import joblib"
   ]
  },
  {
   "cell_type": "code",
   "execution_count": null,
   "id": "eadb01f3",
   "metadata": {},
   "outputs": [
    {
     "ename": "",
     "evalue": "",
     "output_type": "error",
     "traceback": [
      "\u001b[1;31mRunning cells with 'Python 3.10.1' requires the ipykernel package.\n",
      "\u001b[1;31m<a href='command:jupyter.createPythonEnvAndSelectController'>Create a Python Environment</a> with the required packages.\n",
      "\u001b[1;31mOr install 'ipykernel' using the command: 'c:/Users/inamu.SUFI_PC/AppData/Local/Programs/Python/Python310/python.exe -m pip install ipykernel -U --user --force-reinstall'"
     ]
    }
   ],
   "source": [
    "df = pd.read_csv(\"../data/processed/preprocessed_students.csv\")\n",
    "print(f\"Data shape: {df.shape}\")\n",
    "df.head()"
   ]
  },
  {
   "cell_type": "code",
   "execution_count": null,
   "id": "868ad754",
   "metadata": {},
   "outputs": [],
   "source": [
    "numerical_cols = df.select_dtypes(include=['float64', 'int64']).columns\n",
    "X = df[numerical_cols]\n",
    "print(\"Selected features:\", list(numerical_cols))"
   ]
  },
  {
   "cell_type": "code",
   "execution_count": null,
   "id": "0a7241c5",
   "metadata": {},
   "outputs": [],
   "source": [
    "pca = PCA(n_components=2, random_state=42)\n",
    "X_pca = pca.fit_transform(X)"
   ]
  },
  {
   "cell_type": "code",
   "execution_count": null,
   "id": "5be359e7",
   "metadata": {},
   "outputs": [],
   "source": [
    "plt.figure(figsize=(8,4))\n",
    "plt.bar(range(1,3), pca.explained_variance_ratio_)\n",
    "plt.title('PCA Explained Variance')\n",
    "plt.xlabel('Principal Components')\n",
    "plt.ylabel('Variance Ratio')\n",
    "plt.show()"
   ]
  },
  {
   "cell_type": "code",
   "execution_count": null,
   "id": "f63e9fd6",
   "metadata": {},
   "outputs": [],
   "source": [
    "n_components_range = range(2, 6)\n",
    "best_score = -1\n",
    "best_gmm = None\n",
    "\n",
    "for n in n_components_range:\n",
    "    # Fit GMM\n",
    "    gmm = GaussianMixture(\n",
    "        n_components=n,\n",
    "        covariance_type='full',\n",
    "        random_state=42\n",
    "    )\n",
    "    clusters = gmm.fit_predict(X)\n",
    "    \n",
    "    # Evaluate\n",
    "    score = silhouette_score(X, clusters)\n",
    "    print(f\"Components={n}: Silhouette={score:.3f}\")\n",
    "    \n",
    "    if score > best_score:\n",
    "        best_score = score\n",
    "        best_gmm = gmm\n",
    "        best_n = n\n",
    "\n",
    "# Final clustering\n",
    "df['Cluster'] = best_gmm.predict(X)\n",
    "print(f\"\\nOptimal components: {best_n} (Silhouette={best_score:.3f})\")"
   ]
  },
  {
   "cell_type": "code",
   "execution_count": null,
   "id": "65928e09",
   "metadata": {},
   "outputs": [],
   "source": [
    "# Distribution of students across clusters\n",
    "cluster_dist = df['Cluster'].value_counts().sort_index()\n",
    "print(\"Cluster distribution:\")\n",
    "print(cluster_dist)\n",
    "\n",
    "# Mean feature values per cluster\n",
    "cluster_means = df.groupby('Cluster')[numerical_cols].mean()\n",
    "print(\"\\nCluster characteristics:\")\n",
    "cluster_means.style.background_gradient(cmap='Blues')"
   ]
  },
  {
   "cell_type": "code",
   "execution_count": null,
   "id": "543b0734",
   "metadata": {},
   "outputs": [],
   "source": [
    "# ## 6. Visualization\n",
    "plt.figure(figsize=(10,6))\n",
    "sns.scatterplot(\n",
    "    x=X_pca[:,0], y=X_pca[:,1],\n",
    "    hue=df['Cluster'],\n",
    "    palette='viridis',\n",
    "    alpha=0.7,\n",
    "    s=50,\n",
    "    edgecolor='w',\n",
    "    linewidth=0.5\n",
    ")\n",
    "\n",
    "# Add cluster centers\n",
    "centers_pca = pca.transform(best_gmm.means_)\n",
    "plt.scatter(\n",
    "    centers_pca[:,0], centers_pca[:,1],\n",
    "    c='red', marker='X', s=200,\n",
    "    label='Cluster Centers'\n",
    ")\n",
    "\n",
    "plt.title(f'Student Clusters (GMM)\\nSilhouette Score: {best_score:.2f}')\n",
    "plt.xlabel('PCA Component 1')\n",
    "plt.ylabel('PCA Component 2')\n",
    "plt.legend(bbox_to_anchor=(1.05, 1), loc='upper left')\n",
    "plt.tight_layout()\n",
    "plt.savefig(\"../reports/figures/gmm_clusters.png\", dpi=300, bbox_inches='tight')\n",
    "plt.show()"
   ]
  },
  {
   "cell_type": "code",
   "execution_count": null,
   "id": "4bd03655",
   "metadata": {},
   "outputs": [],
   "source": [
    "df.to_csv(\"../data/processed/students_clustered.csv\", index=False)\n",
    "\n",
    "# Save model\n",
    "joblib.dump(best_gmm, \"../models/gmm_model.pkl\")\n",
    "print(\"Results saved to data/processed/ and models/\")"
   ]
  }
 ],
 "metadata": {
  "kernelspec": {
   "display_name": "Python 3",
   "language": "python",
   "name": "python3"
  },
  "language_info": {
   "name": "python",
   "version": "3.10.1"
  }
 },
 "nbformat": 4,
 "nbformat_minor": 5
}
