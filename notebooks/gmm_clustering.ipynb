{
 "cells": [
  {
   "cell_type": "code",
   "execution_count": 35,
   "id": "d4863841",
   "metadata": {},
   "outputs": [],
   "source": [
    "# %% [markdown]\n",
    "# # Enhanced GMM Clustering with Balanced Components\n",
    "# **Objective**: Identify meaningful student groups with balanced cluster sizes\n",
    "\n",
    "# %% [markdown]\n",
    "# ## 1. Environment Setup\n",
    "import numpy as np\n",
    "import pandas as pd\n",
    "import matplotlib.pyplot as plt\n",
    "import seaborn as sns\n",
    "from sklearn.preprocessing import RobustScaler\n",
    "from sklearn.decomposition import PCA\n",
    "from sklearn.mixture import BayesianGaussianMixture\n",
    "from sklearn.metrics import silhouette_score, calinski_harabasz_score\n",
    "import joblib\n",
    "from sklearn.feature_selection import mutual_info_classif\n",
    "\n"
   ]
  },
  {
   "cell_type": "code",
   "execution_count": 36,
   "id": "799f4dff",
   "metadata": {},
   "outputs": [],
   "source": [
    "# Set visualization style\n",
    "plt.style.use('seaborn-v0_8')\n",
    "sns.set_palette('viridis')\n",
    "%matplotlib inline\n",
    "\n"
   ]
  },
  {
   "cell_type": "code",
   "execution_count": 37,
   "id": "087346fe",
   "metadata": {},
   "outputs": [
    {
     "ename": "KeyError",
     "evalue": "\"['Engagement_Level'] not in index\"",
     "output_type": "error",
     "traceback": [
      "\u001b[1;31m---------------------------------------------------------------------------\u001b[0m",
      "\u001b[1;31mKeyError\u001b[0m                                  Traceback (most recent call last)",
      "Cell \u001b[1;32mIn[37], line 10\u001b[0m\n\u001b[0;32m      6\u001b[0m \u001b[38;5;66;03m# Select relevant features\u001b[39;00m\n\u001b[0;32m      7\u001b[0m features \u001b[38;5;241m=\u001b[39m [\u001b[38;5;124m'\u001b[39m\u001b[38;5;124mQuiz_Scores\u001b[39m\u001b[38;5;124m'\u001b[39m, \u001b[38;5;124m'\u001b[39m\u001b[38;5;124mTime_Spent_on_Videos\u001b[39m\u001b[38;5;124m'\u001b[39m, \n\u001b[0;32m      8\u001b[0m             \u001b[38;5;124m'\u001b[39m\u001b[38;5;124mForum_Participation\u001b[39m\u001b[38;5;124m'\u001b[39m, \u001b[38;5;124m'\u001b[39m\u001b[38;5;124mAssignment_Completion_Rate\u001b[39m\u001b[38;5;124m'\u001b[39m,\n\u001b[0;32m      9\u001b[0m             \u001b[38;5;124m'\u001b[39m\u001b[38;5;124mEngagement_Level\u001b[39m\u001b[38;5;124m'\u001b[39m, \u001b[38;5;124m'\u001b[39m\u001b[38;5;124mFinal_Exam_Score\u001b[39m\u001b[38;5;124m'\u001b[39m]\n\u001b[1;32m---> 10\u001b[0m X \u001b[38;5;241m=\u001b[39m \u001b[43mdf\u001b[49m\u001b[43m[\u001b[49m\u001b[43mfeatures\u001b[49m\u001b[43m]\u001b[49m\n\u001b[0;32m     12\u001b[0m \u001b[38;5;66;03m# Add engineered features\u001b[39;00m\n\u001b[0;32m     13\u001b[0m df[\u001b[38;5;124m'\u001b[39m\u001b[38;5;124mEfficiency\u001b[39m\u001b[38;5;124m'\u001b[39m] \u001b[38;5;241m=\u001b[39m df[\u001b[38;5;124m'\u001b[39m\u001b[38;5;124mQuiz_Scores\u001b[39m\u001b[38;5;124m'\u001b[39m] \u001b[38;5;241m/\u001b[39m (df[\u001b[38;5;124m'\u001b[39m\u001b[38;5;124mTime_Spent_on_Videos\u001b[39m\u001b[38;5;124m'\u001b[39m] \u001b[38;5;241m+\u001b[39m \u001b[38;5;241m1\u001b[39m)\n",
      "File \u001b[1;32m~\\AppData\\Local\\Packages\\PythonSoftwareFoundation.Python.3.10_qbz5n2kfra8p0\\LocalCache\\local-packages\\Python310\\site-packages\\pandas\\core\\frame.py:4113\u001b[0m, in \u001b[0;36mDataFrame.__getitem__\u001b[1;34m(self, key)\u001b[0m\n\u001b[0;32m   4111\u001b[0m     \u001b[38;5;28;01mif\u001b[39;00m is_iterator(key):\n\u001b[0;32m   4112\u001b[0m         key \u001b[38;5;241m=\u001b[39m \u001b[38;5;28mlist\u001b[39m(key)\n\u001b[1;32m-> 4113\u001b[0m     indexer \u001b[38;5;241m=\u001b[39m \u001b[38;5;28;43mself\u001b[39;49m\u001b[38;5;241;43m.\u001b[39;49m\u001b[43mcolumns\u001b[49m\u001b[38;5;241;43m.\u001b[39;49m\u001b[43m_get_indexer_strict\u001b[49m\u001b[43m(\u001b[49m\u001b[43mkey\u001b[49m\u001b[43m,\u001b[49m\u001b[43m \u001b[49m\u001b[38;5;124;43m\"\u001b[39;49m\u001b[38;5;124;43mcolumns\u001b[39;49m\u001b[38;5;124;43m\"\u001b[39;49m\u001b[43m)\u001b[49m[\u001b[38;5;241m1\u001b[39m]\n\u001b[0;32m   4115\u001b[0m \u001b[38;5;66;03m# take() does not accept boolean indexers\u001b[39;00m\n\u001b[0;32m   4116\u001b[0m \u001b[38;5;28;01mif\u001b[39;00m \u001b[38;5;28mgetattr\u001b[39m(indexer, \u001b[38;5;124m\"\u001b[39m\u001b[38;5;124mdtype\u001b[39m\u001b[38;5;124m\"\u001b[39m, \u001b[38;5;28;01mNone\u001b[39;00m) \u001b[38;5;241m==\u001b[39m \u001b[38;5;28mbool\u001b[39m:\n",
      "File \u001b[1;32m~\\AppData\\Local\\Packages\\PythonSoftwareFoundation.Python.3.10_qbz5n2kfra8p0\\LocalCache\\local-packages\\Python310\\site-packages\\pandas\\core\\indexes\\base.py:6212\u001b[0m, in \u001b[0;36mIndex._get_indexer_strict\u001b[1;34m(self, key, axis_name)\u001b[0m\n\u001b[0;32m   6209\u001b[0m \u001b[38;5;28;01melse\u001b[39;00m:\n\u001b[0;32m   6210\u001b[0m     keyarr, indexer, new_indexer \u001b[38;5;241m=\u001b[39m \u001b[38;5;28mself\u001b[39m\u001b[38;5;241m.\u001b[39m_reindex_non_unique(keyarr)\n\u001b[1;32m-> 6212\u001b[0m \u001b[38;5;28;43mself\u001b[39;49m\u001b[38;5;241;43m.\u001b[39;49m\u001b[43m_raise_if_missing\u001b[49m\u001b[43m(\u001b[49m\u001b[43mkeyarr\u001b[49m\u001b[43m,\u001b[49m\u001b[43m \u001b[49m\u001b[43mindexer\u001b[49m\u001b[43m,\u001b[49m\u001b[43m \u001b[49m\u001b[43maxis_name\u001b[49m\u001b[43m)\u001b[49m\n\u001b[0;32m   6214\u001b[0m keyarr \u001b[38;5;241m=\u001b[39m \u001b[38;5;28mself\u001b[39m\u001b[38;5;241m.\u001b[39mtake(indexer)\n\u001b[0;32m   6215\u001b[0m \u001b[38;5;28;01mif\u001b[39;00m \u001b[38;5;28misinstance\u001b[39m(key, Index):\n\u001b[0;32m   6216\u001b[0m     \u001b[38;5;66;03m# GH 42790 - Preserve name from an Index\u001b[39;00m\n",
      "File \u001b[1;32m~\\AppData\\Local\\Packages\\PythonSoftwareFoundation.Python.3.10_qbz5n2kfra8p0\\LocalCache\\local-packages\\Python310\\site-packages\\pandas\\core\\indexes\\base.py:6264\u001b[0m, in \u001b[0;36mIndex._raise_if_missing\u001b[1;34m(self, key, indexer, axis_name)\u001b[0m\n\u001b[0;32m   6261\u001b[0m     \u001b[38;5;28;01mraise\u001b[39;00m \u001b[38;5;167;01mKeyError\u001b[39;00m(\u001b[38;5;124mf\u001b[39m\u001b[38;5;124m\"\u001b[39m\u001b[38;5;124mNone of [\u001b[39m\u001b[38;5;132;01m{\u001b[39;00mkey\u001b[38;5;132;01m}\u001b[39;00m\u001b[38;5;124m] are in the [\u001b[39m\u001b[38;5;132;01m{\u001b[39;00maxis_name\u001b[38;5;132;01m}\u001b[39;00m\u001b[38;5;124m]\u001b[39m\u001b[38;5;124m\"\u001b[39m)\n\u001b[0;32m   6263\u001b[0m not_found \u001b[38;5;241m=\u001b[39m \u001b[38;5;28mlist\u001b[39m(ensure_index(key)[missing_mask\u001b[38;5;241m.\u001b[39mnonzero()[\u001b[38;5;241m0\u001b[39m]]\u001b[38;5;241m.\u001b[39munique())\n\u001b[1;32m-> 6264\u001b[0m \u001b[38;5;28;01mraise\u001b[39;00m \u001b[38;5;167;01mKeyError\u001b[39;00m(\u001b[38;5;124mf\u001b[39m\u001b[38;5;124m\"\u001b[39m\u001b[38;5;132;01m{\u001b[39;00mnot_found\u001b[38;5;132;01m}\u001b[39;00m\u001b[38;5;124m not in index\u001b[39m\u001b[38;5;124m\"\u001b[39m)\n",
      "\u001b[1;31mKeyError\u001b[0m: \"['Engagement_Level'] not in index\""
     ]
    }
   ],
   "source": [
    "# %% [markdown]\n",
    "# ## 2. Data Loading & Preparation\n",
    "# Load preprocessed data\n",
    "df = pd.read_csv(\"../data/processed/preprocessed_students.csv\")\n",
    "\n",
    "# Select relevant features\n",
    "features = ['Quiz_Scores', 'Time_Spent_on_Videos', \n",
    "            'Forum_Participation', 'Assignment_Completion_Rate',\n",
    "            'Engagement_Level', 'Final_Exam_Score']\n",
    "X = df[features]\n",
    "\n",
    "# Add engineered features\n",
    "df['Efficiency'] = df['Quiz_Scores'] / (df['Time_Spent_on_Videos'] + 1)\n",
    "df['Consistency'] = df['Quiz_Scores'].rolling(3, min_periods=1).std().fillna(0)\n",
    "features += ['Efficiency', 'Consistency']\n",
    "X = df[features]\n",
    "\n"
   ]
  },
  {
   "cell_type": "code",
   "execution_count": null,
   "id": "e47cef64",
   "metadata": {},
   "outputs": [],
   "source": [
    "# %% [markdown]\n",
    "# ## 3. Feature Scaling & Selection\n",
    "# Robust scaling\n",
    "scaler = RobustScaler()\n",
    "X_scaled = scaler.fit_transform(X)\n",
    "\n",
    "# Feature importance\n",
    "mi_scores = mutual_info_classif(X_scaled, df['Dropout_Likelihood'])\n",
    "pd.Series(mi_scores, index=features).sort_values().plot.barh()\n",
    "plt.title('Feature Importance Scores')\n",
    "plt.show()\n",
    "\n"
   ]
  },
  {
   "cell_type": "code",
   "execution_count": null,
   "id": "50f82f21",
   "metadata": {},
   "outputs": [],
   "source": [
    "# %% [markdown]\n",
    "# ## 4. Optimized GMM Clustering\n",
    "# Initialize Bayesian GMM\n",
    "bgmm = BayesianGaussianMixture(\n",
    "    n_components=4,\n",
    "    weight_concentration_prior_type='dirichlet_process',\n",
    "    weight_concentration_prior=0.01,  # Controls cluster balance\n",
    "    covariance_type='full',\n",
    "    random_state=42,\n",
    "    n_init=3,\n",
    "    max_iter=500\n",
    ")\n",
    "\n",
    "# Fit model\n",
    "clusters = bgmm.fit_predict(X_scaled)\n",
    "\n",
    "# Evaluate\n",
    "score = silhouette_score(X_scaled, clusters)\n",
    "ch_score = calinski_harabasz_score(X_scaled, clusters)\n",
    "\n",
    "print(f\"Silhouette Score: {score:.3f}\")\n",
    "print(f\"Calinski-Harabasz Score: {ch_score:.0f}\")\n",
    "print(\"\\nCluster Distribution:\")\n",
    "print(pd.Series(clusters).value_counts().sort_index())\n",
    "\n"
   ]
  },
  {
   "cell_type": "code",
   "execution_count": null,
   "id": "ae7925e1",
   "metadata": {},
   "outputs": [],
   "source": [
    "# %% [markdown]\n",
    "# ## 5. Cluster Analysis\n",
    "df['Cluster'] = clusters\n",
    "\n",
    "# Visualize component weights\n",
    "plt.figure(figsize=(10,4))\n",
    "plt.subplot(121)\n",
    "plt.bar(range(bgmm.n_components), bgmm.weights_)\n",
    "plt.title('Cluster Component Weights')\n",
    "plt.xlabel('Cluster')\n",
    "plt.ylabel('Weight')\n",
    "\n",
    "# Visualize cluster means\n",
    "cluster_means = df.groupby('Cluster')[features].mean()\n",
    "plt.subplot(122)\n",
    "sns.heatmap(cluster_means.T, annot=True, cmap='Blues')\n",
    "plt.title('Normalized Feature Means by Cluster')\n",
    "plt.tight_layout()\n",
    "plt.show()\n",
    "\n"
   ]
  },
  {
   "cell_type": "code",
   "execution_count": null,
   "id": "8864802c",
   "metadata": {},
   "outputs": [],
   "source": [
    "# %% [markdown]\n",
    "# ## 6. Dimensionality Reduction & Visualization\n",
    "pca = PCA(n_components=2)\n",
    "X_pca = pca.fit_transform(X_scaled)\n",
    "\n",
    "plt.figure(figsize=(12,6))\n",
    "sns.scatterplot(\n",
    "    x=X_pca[:,0], y=X_pca[:,1],\n",
    "    hue=df['Cluster'],\n",
    "    palette='viridis',\n",
    "    alpha=0.7,\n",
    "    s=50,\n",
    "    style=df['Cluster'],\n",
    "    legend='full'\n",
    ")\n",
    "\n",
    "# Add cluster centers\n",
    "centers_pca = pca.transform(bgmm.means_)\n",
    "plt.scatter(centers_pca[:,0], centers_pca[:,1],\n",
    "            c='red', marker='X', s=200, label='Centers')\n",
    "\n",
    "plt.title(f'Student Clusters\\nSilhouette: {score:.2f}, Calinski-Harabasz: {ch_score:.0f}')\n",
    "plt.xlabel('PC1 ({:.1f}% variance)'.format(pca.explained_variance_ratio_[0]*100))\n",
    "plt.ylabel('PC2 ({:.1f}% variance)'.format(pca.explained_variance_ratio_[1]*100))\n",
    "plt.legend(bbox_to_anchor=(1.05, 1))\n",
    "plt.tight_layout()\n",
    "plt.savefig(\"../reports/figures/balanced_clusters.png\", dpi=300)\n",
    "plt.show()\n",
    "\n"
   ]
  },
  {
   "cell_type": "code",
   "execution_count": null,
   "id": "82a65b46",
   "metadata": {},
   "outputs": [],
   "source": [
    "# %% [markdown]\n",
    "# ## 7. Results Export\n",
    "# Save clustered data\n",
    "df.to_csv(\"../data/processed/balanced_student_clusters.csv\", index=False)\n",
    "\n",
    "# Save model pipeline\n",
    "joblib.dump({\n",
    "    'scaler': scaler,\n",
    "    'model': bgmm,\n",
    "    'features': features\n",
    "}, \"../models/balanced_gmm_pipeline.pkl\")\n",
    "\n",
    "print(\"\\n=== Results Saved ===\")\n",
    "print(\"Clustered data: data/processed/balanced_student_clusters.csv\")\n",
    "print(\"Model pipeline: models/balanced_gmm_pipeline.pkl\")\n",
    "print(\"Visualization: reports/figures/balanced_clusters.png\")"
   ]
  }
 ],
 "metadata": {
  "kernelspec": {
   "display_name": "Python 3",
   "language": "python",
   "name": "python3"
  },
  "language_info": {
   "codemirror_mode": {
    "name": "ipython",
    "version": 3
   },
   "file_extension": ".py",
   "mimetype": "text/x-python",
   "name": "python",
   "nbconvert_exporter": "python",
   "pygments_lexer": "ipython3",
   "version": "3.10.11"
  }
 },
 "nbformat": 4,
 "nbformat_minor": 5
}
