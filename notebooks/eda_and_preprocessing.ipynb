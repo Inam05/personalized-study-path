{
  "cells": [
    {
      "cell_type": "code",
      "execution_count": null,
      "metadata": {
        "id": "t85uBE0OhDrM"
      },
      "outputs": [],
      "source": [
        "import pandas as pd"
      ]
    },
    {
      "cell_type": "code",
      "execution_count": null,
      "metadata": {
        "colab": {
          "base_uri": "https://localhost:8080/",
          "height": 295
        },
        "id": "E0SvrdmBinru",
        "outputId": "4ea8f3f3-ad44-45d6-c03c-42abc2452e52"
      },
      "outputs": [],
      "source": [
        "df = pd.read_csv(\"D:/Projects/personalized-study-path/data/raw/students_data.csv\")\n",
        "df.head()"
      ]
    },
    {
      "cell_type": "markdown",
      "metadata": {
        "id": "X5Gwc6DZp4Sn"
      },
      "source": [
        "## EDA"
      ]
    },
    {
      "cell_type": "code",
      "execution_count": null,
      "metadata": {
        "colab": {
          "base_uri": "https://localhost:8080/"
        },
        "id": "g_PlCphfp56b",
        "outputId": "67b88c08-0f8c-4e5d-d395-6e4821463137"
      },
      "outputs": [],
      "source": [
        "print(df.shape)\n",
        "print(df.columns)"
      ]
    },
    {
      "cell_type": "code",
      "execution_count": null,
      "metadata": {
        "colab": {
          "base_uri": "https://localhost:8080/"
        },
        "id": "T7nWOnxMpqWi",
        "outputId": "71d93418-8a7b-4d0a-b280-c302e65b13ca"
      },
      "outputs": [],
      "source": [
        "df.info()"
      ]
    },
    {
      "cell_type": "code",
      "execution_count": null,
      "metadata": {
        "colab": {
          "base_uri": "https://localhost:8080/",
          "height": 320
        },
        "id": "A1jVvJgQqDaD",
        "outputId": "016486d4-e891-4c03-f74f-1a540067ac34"
      },
      "outputs": [],
      "source": [
        "df.describe()"
      ]
    },
    {
      "cell_type": "code",
      "execution_count": null,
      "metadata": {
        "colab": {
          "base_uri": "https://localhost:8080/",
          "height": 554
        },
        "id": "VmH1u2y3qFk_",
        "outputId": "c76df975-db44-47c4-a49c-5559c5f8772c"
      },
      "outputs": [],
      "source": [
        "df.isnull().sum()"
      ]
    },
    {
      "cell_type": "markdown",
      "metadata": {
        "id": "v43-QWVpqwvx"
      },
      "source": [
        "### Visual EDA Before Preprocessing"
      ]
    },
    {
      "cell_type": "markdown",
      "metadata": {
        "id": "j-NI44R7q3HQ"
      },
      "source": [
        "#### 1. Target Variable Distribution"
      ]
    },
    {
      "cell_type": "code",
      "execution_count": null,
      "metadata": {
        "colab": {
          "base_uri": "https://localhost:8080/",
          "height": 410
        },
        "id": "FPo_JjNnqxl0",
        "outputId": "431fe73d-6f5b-474e-ba34-77a933ce6b29"
      },
      "outputs": [],
      "source": [
        "import seaborn as sns\n",
        "import matplotlib.pyplot as plt\n",
        "\n",
        "plt.figure(figsize=(6,4))\n",
        "sns.countplot(data=df, x='Dropout_Likelihood')\n",
        "plt.title(\"Dropout Likelihood Distribution\")\n",
        "plt.show()\n"
      ]
    },
    {
      "cell_type": "markdown",
      "metadata": {
        "id": "yQM5JsjLrOKT"
      },
      "source": [
        "#### 2. Numeric Column Distributions"
      ]
    },
    {
      "cell_type": "code",
      "execution_count": null,
      "metadata": {
        "colab": {
          "base_uri": "https://localhost:8080/",
          "height": 546
        },
        "id": "HNeVBRkWrIMt",
        "outputId": "fd6630d4-6a38-46ac-c363-f37f0c8133b5"
      },
      "outputs": [],
      "source": [
        "df.hist(figsize=(15,10), bins= 30, edgecolor='black')\n",
        "plt.tight_layout()\n",
        "plt.show()"
      ]
    },
    {
      "cell_type": "markdown",
      "metadata": {
        "id": "47KpGB4JrhKF"
      },
      "source": [
        "#### 3. Boxplots to see Outliers"
      ]
    },
    {
      "cell_type": "code",
      "execution_count": null,
      "metadata": {
        "colab": {
          "base_uri": "https://localhost:8080/",
          "height": 1000
        },
        "id": "rkC1THmGqGe4",
        "outputId": "6f565f2d-5e2f-468b-8771-3c504e873525"
      },
      "outputs": [],
      "source": [
        "numeric_cols = df.select_dtypes(include='number').columns\n",
        "\n",
        "plt.figure(figsize=(16, 20))\n",
        "for i, col in enumerate(numeric_cols, 1):\n",
        "    plt.subplot(4, 2, i)\n",
        "    sns.boxplot(y=df[col])\n",
        "    plt.title(f'Box Plot of {col}')\n",
        "    plt.tight_layout()\n"
      ]
    },
    {
      "cell_type": "markdown",
      "metadata": {
        "id": "kWN4AIvgrpgs"
      },
      "source": [
        "#### 4. Correlation Heatmap"
      ]
    },
    {
      "cell_type": "code",
      "execution_count": null,
      "metadata": {
        "colab": {
          "base_uri": "https://localhost:8080/",
          "height": 654
        },
        "id": "OOJd3sITrk-p",
        "outputId": "d5341d57-d62f-48f7-890a-29831c41b559"
      },
      "outputs": [],
      "source": [
        "# Select only numeric columns for correlation\n",
        "numeric_df = df.select_dtypes(include='number')\n",
        "\n",
        "\n",
        "plt.figure(figsize=(12, 8))\n",
        "sns.heatmap(numeric_df.corr(), annot=True, cmap='coolwarm')\n",
        "plt.title(\"Correlation Matrix\")\n",
        "plt.show()\n"
      ]
    },
    {
      "cell_type": "markdown",
      "metadata": {
        "id": "rFHy8shjtefl"
      },
      "source": [
        "## Preprocessing"
      ]
    },
    {
      "cell_type": "code",
      "execution_count": null,
      "metadata": {
        "id": "tEtz40rxszEt"
      },
      "outputs": [],
      "source": [
        "from sklearn.preprocessing import OneHotEncoder, StandardScaler\n",
        "from sklearn.compose import ColumnTransformer\n",
        "from sklearn.pipeline import Pipeline\n",
        "from sklearn.impute import SimpleImputer"
      ]
    },
    {
      "cell_type": "code",
      "execution_count": null,
      "metadata": {},
      "outputs": [],
      "source": [
        "df = df.drop(columns=['Student_ID'])"
      ]
    },
    {
      "cell_type": "code",
      "execution_count": null,
      "metadata": {
        "id": "3hoe199cuJ1E"
      },
      "outputs": [],
      "source": [
        "# Separate features and target (optional for clustering)\n",
        "X = df.drop(columns=['Dropout_Likelihood'])  # keep this column aside for later\n",
        "y = df['Dropout_Likelihood']"
      ]
    },
    {
      "cell_type": "code",
      "execution_count": null,
      "metadata": {
        "id": "9_uN3phWuQL9"
      },
      "outputs": [],
      "source": [
        "# Define feature types\n",
        "categorical_nominal = ['Gender', 'Course_Name', 'Learning_Style']\n",
        "categorical_ordinal = ['Education_Level']\n",
        "numerical_features = [col for col in X.select_dtypes(include=['int64', 'float64']).columns\n",
        "                      if col not in categorical_ordinal]"
      ]
    },
    {
      "cell_type": "code",
      "execution_count": null,
      "metadata": {
        "colab": {
          "base_uri": "https://localhost:8080/",
          "height": 443
        },
        "id": "kicYt83JuW8s",
        "outputId": "fcf665c6-6b61-4085-c9bd-42cfc481c0ac"
      },
      "outputs": [],
      "source": [
        "# Optional: Define order for ordinal encoding\n",
        "education_order = ['High School', 'Bachelor', 'Master', 'PhD']\n",
        "education_mapping = {level: idx for idx, level in enumerate(education_order)}\n",
        "X['Education_Level'] = X['Education_Level'].map(education_mapping)"
      ]
    },
    {
      "cell_type": "code",
      "execution_count": null,
      "metadata": {
        "id": "MBAz3AiBuYjN"
      },
      "outputs": [],
      "source": [
        "# Define transformers\n",
        "categorical_transformer = Pipeline(steps=[\n",
        "    ('imputer', SimpleImputer(strategy='most_frequent')),\n",
        "    ('onehot', OneHotEncoder(handle_unknown='ignore', sparse_output=False))\n",
        "])\n",
        "\n",
        "\n",
        "numerical_transformer = Pipeline(steps=[\n",
        "    ('imputer', SimpleImputer(strategy='mean')),\n",
        "    ('scaler', StandardScaler())\n",
        "])"
      ]
    },
    {
      "cell_type": "code",
      "execution_count": null,
      "metadata": {},
      "outputs": [],
      "source": [
        "# Combine transformations\n",
        "preprocessor = ColumnTransformer(transformers=[\n",
        "    ('num', numerical_transformer, numerical_features),\n",
        "    ('cat', categorical_transformer, categorical_nominal)\n",
        "])"
      ]
    },
    {
      "cell_type": "code",
      "execution_count": null,
      "metadata": {},
      "outputs": [],
      "source": [
        "# Fit and transform\n",
        "X_preprocessed = preprocessor.fit_transform(X)"
      ]
    },
    {
      "cell_type": "code",
      "execution_count": null,
      "metadata": {},
      "outputs": [],
      "source": [
        "# Convert back to DataFrame (optional but helpful for inspection)\n",
        "# Get new column names after one-hot encoding\n",
        "ohe_cols = preprocessor.named_transformers_['cat']['onehot'].get_feature_names_out(categorical_nominal)\n",
        "final_columns = numerical_features + list(ohe_cols)"
      ]
    },
    {
      "cell_type": "code",
      "execution_count": null,
      "metadata": {},
      "outputs": [],
      "source": [
        "preprocessed_df = pd.DataFrame(X_preprocessed, columns=final_columns)"
      ]
    },
    {
      "cell_type": "code",
      "execution_count": null,
      "metadata": {},
      "outputs": [],
      "source": [
        "preprocessed_df"
      ]
    },
    {
      "cell_type": "code",
      "execution_count": null,
      "metadata": {},
      "outputs": [],
      "source": [
        "preprocessed_df.to_csv(\"preprocessed_students.csv\", index=False)"
      ]
    },
    {
      "cell_type": "code",
      "execution_count": null,
      "metadata": {},
      "outputs": [],
      "source": [
        "preprocessed_df.dtypes"
      ]
    },
    {
      "cell_type": "code",
      "execution_count": null,
      "metadata": {},
      "outputs": [],
      "source": []
    }
  ],
  "metadata": {
    "colab": {
      "provenance": []
    },
    "kernelspec": {
      "display_name": "Python 3",
      "name": "python3"
    },
    "language_info": {
      "codemirror_mode": {
        "name": "ipython",
        "version": 3
      },
      "file_extension": ".py",
      "mimetype": "text/x-python",
      "name": "python",
      "nbconvert_exporter": "python",
      "pygments_lexer": "ipython3",
      "version": "3.13.5"
    }
  },
  "nbformat": 4,
  "nbformat_minor": 0
}
